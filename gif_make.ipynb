{
 "cells": [
  {
   "cell_type": "code",
   "execution_count": 15,
   "id": "f5b98e54-a498-458e-8474-0869e3f464a6",
   "metadata": {},
   "outputs": [
    {
     "name": "stdout",
     "output_type": "stream",
     "text": [
      "0_3.jpg\n",
      "0_6.jpg\n",
      "0_2.jpg\n",
      "0_7.jpg\n",
      "0_9.jpg\n",
      "0_8.jpg\n",
      "0_11.jpg\n",
      "0_10.jpg\n",
      "0_4.jpg\n",
      "0_14.jpg\n",
      "0_1.jpg\n",
      "0_5.jpg\n",
      "0_13.jpg\n",
      "0_12.jpg\n"
     ]
    }
   ],
   "source": [
    "import glob\n",
    "import os\n",
    "\n",
    "from PIL import Image\n",
    "\n",
    "def extract_integer(filename):\n",
    "    print(filename)\n",
    "    return int(filename.split('.')[0].split('_')[1])\n",
    "\n",
    "def make_gif(frame_folder):\n",
    "    img_path_list=os.listdir(frame_folder)\n",
    "    img_list=sorted(img_path_list, key=extract_integer)\n",
    "    frames = [Image.open(os.path.join(frame_folder,image)) for image in img_list]\n",
    "    frame_one = frames[0]\n",
    "    frame_one.save(\"search4.gif\", format=\"GIF\", append_images=frames,\n",
    "               save_all=True, duration=100, loop=0)\n",
    "\n",
    "\n",
    "make_gif(\"./img\")"
   ]
  }
 ],
 "metadata": {
  "kernelspec": {
   "display_name": "Python 3 (ipykernel)",
   "language": "python",
   "name": "python3"
  },
  "language_info": {
   "codemirror_mode": {
    "name": "ipython",
    "version": 3
   },
   "file_extension": ".py",
   "mimetype": "text/x-python",
   "name": "python",
   "nbconvert_exporter": "python",
   "pygments_lexer": "ipython3",
   "version": "3.8.10"
  }
 },
 "nbformat": 4,
 "nbformat_minor": 5
}
